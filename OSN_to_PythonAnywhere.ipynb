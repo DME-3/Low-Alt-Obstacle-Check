{
  "cells": [
    {
      "cell_type": "code",
      "execution_count": 1,
      "metadata": {
        "id": "awdAXVnGp5-e"
      },
      "outputs": [],
      "source": [
        "import json\n",
        "import os\n",
        "from collections import defaultdict\n",
        "from datetime import datetime, timedelta\n",
        "from glob import glob\n",
        "from math import asin, cos, radians, sin, sqrt\n",
        "from numbers import Real\n",
        "from typing import Any, Iterator, Tuple, Union\n",
        "from sshtunnel import SSHTunnelForwarder\n",
        "\n",
        "import paramiko\n",
        "import geopandas as gpd\n",
        "import numpy as np\n",
        "import pandas as pd\n",
        "import rasterio\n",
        "import sshtunnel\n",
        "import MySQLdb\n",
        "\n",
        "from numpy import positive\n",
        "from pyproj import Transformer, transform\n",
        "from shapely.geometry import Point, Polygon\n",
        "from sqlalchemy import (\n",
        "    Connection,\n",
        "    CursorResult,\n",
        "    Engine,\n",
        "    Select,\n",
        "    TextClause,\n",
        "    create_engine,\n",
        "    func,\n",
        "    select,\n",
        ")\n",
        "from sqlalchemy.sql.expression import text\n",
        "from pyopensky.trino import Trino"
      ]
    },
    {
      "cell_type": "code",
      "execution_count": 2,
      "metadata": {},
      "outputs": [],
      "source": [
        "LAT_MIN, LAT_MAX = 50.88385859501204322, 50.98427935836787128\n",
        "LON_MIN, LON_MAX = 6.85029965503896943, 7.005 # 7.03641128126701965\n",
        "ALT_MIN, ALT_MAX = 0, 750 # update from 700 m to 750 m, in line with CTR limit at 2500 ft plus margin (and accounting for Geoid Height)\n",
        "\n",
        "TIME_BETWEEN_TRAJS = 30\n",
        "\n",
        "# SERA.5005(f)(1) criteria\n",
        "CONGESTED_ALERT_DISTANCE_M = 600      # alert distance wrt obstacles (should be 600)\n",
        "CONGESTED_ALERT_DELTA_HEIGHT_M = 300   # delta height (should be 300)\n",
        "\n",
        "# SERA.5005(f)(2) criteria\n",
        "NONCONGESTED_ALERT_DISTANCE_M = 150 \n",
        "NONCONGESTED_ALERT_DELTA_HEIGHT_M = 150  \n",
        "\n",
        "CPA_MARGIN_M = 20 # allowance for lateral distance to obstacle\n",
        "DIP_MARGIN_M = 20 # allowance for dip below minimum height (45m corresponds to GVA = 2)\n",
        "N_MIN = 5\n",
        "\n",
        "GEOID_HEIGHT_M = 47  # geoid height for Cologne\n",
        "\n",
        "sshtunnel.SSH_TIMEOUT = 15.0\n",
        "sshtunnel.TUNNEL_TIMEOUT = 15.0"
      ]
    },
    {
      "cell_type": "markdown",
      "metadata": {
        "id": "UA04jyXL_uqQ"
      },
      "source": [
        "# Setup OpenSky Network Trino credentials"
      ]
    },
    {
      "cell_type": "code",
      "execution_count": 3,
      "metadata": {
        "id": "2EgQ12zo-3lL"
      },
      "outputs": [],
      "source": [
        "OSN_secrets_json = './trino_secrets.json'\n",
        "MYSQL_secrets_json = './mysql_secrets.json'\n",
        "\n",
        "with open(OSN_secrets_json) as OSN_secrets:\n",
        "  OSN_creds = json.load(OSN_secrets)\n",
        "\n",
        "with open(MYSQL_secrets_json) as MYSQL_secrets:\n",
        "  MYSQL_creds = json.load(MYSQL_secrets)\n",
        "\n",
        "os.environ['OPENSKY_USERNAME'] = OSN_creds['OPENSKY_USERNAME']\n",
        "os.environ['OPENSKY_PASSWORD'] = OSN_creds['OPENSKY_PASSWORD']"
      ]
    },
    {
      "cell_type": "markdown",
      "metadata": {
        "id": "RJBLYkVw_8uj"
      },
      "source": [
        "# Test connection with basic SQL query"
      ]
    },
    {
      "cell_type": "code",
      "execution_count": null,
      "metadata": {
        "colab": {
          "base_uri": "https://localhost:8080/"
        },
        "id": "cVXn7KzE9zCm",
        "outputId": "b2e20b4f-c5a5-4dc0-8cb6-86f4b16bd531"
      },
      "outputs": [],
      "source": [
        "trino = Trino()\n",
        "\n",
        "query = \"select * from operational_status_data4 limit 5\"\n",
        "\n",
        "df = trino.query(query, cached = False)"
      ]
    },
    {
      "cell_type": "code",
      "execution_count": null,
      "metadata": {},
      "outputs": [],
      "source": [
        "df"
      ]
    },
    {
      "cell_type": "markdown",
      "metadata": {},
      "source": [
        "# Send queries and merge results"
      ]
    },
    {
      "cell_type": "code",
      "execution_count": 7,
      "metadata": {},
      "outputs": [],
      "source": [
        "start_str = \"01/10/24\"\n",
        "end_str = \"06/10/24\"\n",
        "\n",
        "start = datetime.strptime(start_str, '%d/%m/%y')\n",
        "end = datetime.strptime(end_str, '%d/%m/%y')\n",
        "\n",
        "# Modify start_date to be 00:00:00\n",
        "start = start.replace(hour=0, minute=0, second=1, microsecond=0)\n",
        "# Modify end_date to be 23:59:59\n",
        "end = end.replace(hour=23, minute=59, second=59, microsecond=999999)\n",
        "\n",
        "start_time = int(start.timestamp())\n",
        "start_hour = start_time - (start_time % 3600)\n",
        "end_time = int(end.timestamp())\n",
        "end_hour = end_time - (end_time % 3600)"
      ]
    },
    {
      "cell_type": "code",
      "execution_count": null,
      "metadata": {},
      "outputs": [],
      "source": [
        "svdata4_query = (\n",
        "        f\"SELECT * FROM state_vectors_data4\"\n",
        "        f\" WHERE icao24 LIKE '%'\"\n",
        "        f\" AND time >= {start_time} AND time <= {end_time}\"\n",
        "        f\" AND hour >= {start_hour} AND hour <= {end_hour}\"\n",
        "        f\" AND lat >= {LAT_MIN} AND lat <= {LAT_MAX}\"\n",
        "        f\" AND lon>= {LON_MIN} AND lon <= {LON_MAX}\"\n",
        "        f\" AND geoaltitude >= {ALT_MIN} AND geoaltitude <= {ALT_MAX}\"\n",
        "        f\" ORDER BY time\"\n",
        "    )\n",
        "\n",
        "trino = Trino()\n",
        "\n",
        "svdata4_df = trino.query(\n",
        "    svdata4_query,\n",
        "    cached=False,\n",
        "    compress=True,\n",
        ")"
      ]
    },
    {
      "cell_type": "code",
      "execution_count": 9,
      "metadata": {},
      "outputs": [],
      "source": [
        "# Save svdata4 pickle\n",
        "svdata4_df.to_pickle('./OSN_pickles/svdata4df_new_2024-10-01_2024-10-06.pkl')"
      ]
    },
    {
      "cell_type": "code",
      "execution_count": 6,
      "metadata": {},
      "outputs": [],
      "source": [
        "# OR Read a saved pickle\n",
        "\n",
        "svdata4_df = pd.read_pickle('./OSN_pickles/svdata4df_new_2024-08-01_2024-08-31.pkl')"
      ]
    },
    {
      "cell_type": "code",
      "execution_count": null,
      "metadata": {},
      "outputs": [],
      "source": [
        "len(svdata4_df.hour.unique())"
      ]
    },
    {
      "cell_type": "code",
      "execution_count": null,
      "metadata": {},
      "outputs": [],
      "source": [
        "len(svdata4_df.icao24.unique())"
      ]
    },
    {
      "cell_type": "code",
      "execution_count": null,
      "metadata": {},
      "outputs": [],
      "source": [
        "import matplotlib.pyplot as plt\n",
        "\n",
        "# Assuming your dataframe is svdata4_df and it has 'lat', 'lon', and 'geoaltitude' columns\n",
        "plt.figure(figsize=(10, 6))\n",
        "\n",
        "# Create the scatter plot with colors based on 'geoaltitude'\n",
        "sc = plt.scatter(svdata4_df['lon'], svdata4_df['lat'], c=svdata4_df['geoaltitude'], cmap='Reds', alpha=0.7, marker='x', edgecolor='k')\n",
        "\n",
        "# Add a color bar to show the geoaltitude scale\n",
        "cbar = plt.colorbar(sc)\n",
        "cbar.set_label('Geoaltitude')\n",
        "\n",
        "# Add a vertical line at lon = 7.005\n",
        "plt.axvline(x=7.005, color='green', linestyle='--', linewidth=2)\n",
        "\n",
        "# Add labels and title\n",
        "plt.title('Scatter Plot of Latitude and Longitude Colored by Geoaltitude')\n",
        "plt.xlabel('Longitude')\n",
        "plt.ylabel('Latitude')\n",
        "\n",
        "# Show the plot\n",
        "plt.grid(True)\n",
        "plt.show()\n"
      ]
    },
    {
      "cell_type": "code",
      "execution_count": null,
      "metadata": {},
      "outputs": [],
      "source": [
        "icao_list = svdata4_df.icao24.unique()\n",
        "icao24_str = ', '.join(f\"'{item}'\" for item in icao_list)\n",
        "\n",
        "ops_sts_query = (\n",
        "    f\"SELECT icao24, mintime, maxtime, nacv, systemdesignassurance, version, positionnac, geometricverticalaccuracy, sourceintegritylevel, barometricaltitudeintegritycode  FROM operational_status_data4\"\n",
        "    f\" WHERE icao24 IN ({icao24_str})\"\n",
        "    f\" AND mintime >= {start_time} AND maxtime <= {end_time}\"\n",
        "    f\" AND hour >= {start_hour} AND hour <= {end_hour}\"\n",
        "    f\" ORDER by mintime\"\n",
        ")\n",
        "\n",
        "print('Connecting to OSN database...')\n",
        "trino = Trino()\n",
        "ops_sts_df = trino.query(\n",
        "    ops_sts_query,\n",
        "    cached=False,\n",
        ")\n",
        "\n",
        "ops_sts_df['time'] = ops_sts_df['mintime'].astype('int64')"
      ]
    },
    {
      "cell_type": "code",
      "execution_count": 13,
      "metadata": {},
      "outputs": [],
      "source": [
        "# Save ops_sts pickle\n",
        "ops_sts_df.to_pickle('./OSN_pickles/opsstsdf_new_2024-10-01_2024-10-06.pkl')"
      ]
    },
    {
      "cell_type": "code",
      "execution_count": 14,
      "metadata": {},
      "outputs": [],
      "source": [
        "# Initialize an empty DataFrame to hold the results\n",
        "merged_df = pd.DataFrame()\n",
        "\n",
        "# Loop over each unique 'icao24' in both dataframes\n",
        "unique_icao24s = pd.concat([svdata4_df['icao24'], ops_sts_df['icao24']]).unique()\n",
        "\n",
        "for icao24 in unique_icao24s:\n",
        "    # Filter each dataframe by 'icao24'\n",
        "    sub_df1 = svdata4_df[svdata4_df['icao24'] == icao24]\n",
        "    sub_df2 = ops_sts_df[ops_sts_df['icao24'] == icao24]\n",
        "\n",
        "    # Ensure both sub-dataframes are sorted by 'time'\n",
        "    sub_df1 = sub_df1.sort_values('time')\n",
        "    sub_df2 = sub_df2.sort_values('time')\n",
        "\n",
        "    # Perform merge_asof on the filtered and sorted dataframes\n",
        "    merged_sub_df = pd.merge_asof(sub_df1, sub_df2, on='time', by='icao24', direction='backward')\n",
        "    \n",
        "    # Append the result to the main dataframe\n",
        "    merged_df = pd.concat([merged_df, merged_sub_df], ignore_index=True)\n"
      ]
    },
    {
      "cell_type": "code",
      "execution_count": null,
      "metadata": {},
      "outputs": [],
      "source": [
        "posdata4_query = (\n",
        "    f\"SELECT mintime, icao24, nic  FROM position_data4\"\n",
        "    f\" WHERE icao24 IN ({icao24_str})\"\n",
        "    f\" AND lat >= {LAT_MIN} AND lat <= {LAT_MAX}\"\n",
        "    f\" AND lon>= {LON_MIN} AND lon <= {LON_MAX}\"\n",
        "    f\" AND mintime >= {start_time} AND maxtime <= {end_time}\"\n",
        "    f\" AND hour >= {start_hour} AND hour <= {end_hour}\"\n",
        "    f\" ORDER by mintime\"\n",
        ")\n",
        "\n",
        "print('Connecting to OSN database...')\n",
        "trino = Trino()\n",
        "posdata4_df = trino.query(\n",
        "    posdata4_query,\n",
        "    cached=False,\n",
        ")\n",
        "\n",
        "posdata4_df['time'] = posdata4_df['mintime'].astype('int64')"
      ]
    },
    {
      "cell_type": "code",
      "execution_count": 16,
      "metadata": {},
      "outputs": [],
      "source": [
        "# Save ops_sts pickle\n",
        "posdata4_df.to_pickle('./OSN_pickles/posdata4df_new_2024-10-01_2024-10-06.pkl')"
      ]
    },
    {
      "cell_type": "code",
      "execution_count": 17,
      "metadata": {},
      "outputs": [],
      "source": [
        "# Initialize an empty DataFrame to hold the results\n",
        "final_df = pd.DataFrame()\n",
        "\n",
        "for icao24 in unique_icao24s:\n",
        "    # Filter each dataframe by 'icao24'\n",
        "    sub_df1 = merged_df[merged_df['icao24'] == icao24]\n",
        "    sub_df2 = posdata4_df[posdata4_df['icao24'] == icao24]\n",
        "\n",
        "    # Ensure both sub-dataframes are sorted by 'time'\n",
        "    sub_df1 = sub_df1.sort_values('time')\n",
        "    sub_df2 = sub_df2.sort_values('time')\n",
        "\n",
        "    # Perform merge_asof on the filtered and sorted dataframes\n",
        "    merged_sub_df = pd.merge_asof(sub_df1, sub_df2, on='time', by='icao24', direction='backward')\n",
        "    \n",
        "    # Append the result to the main dataframe\n",
        "    final_df = pd.concat([final_df, merged_sub_df], ignore_index=True)\n",
        "\n",
        "final_df = final_df.drop(columns=['hour', 'mintime_x', 'maxtime', 'mintime_y'])\n"
      ]
    },
    {
      "cell_type": "markdown",
      "metadata": {},
      "source": [
        "# Add DEM ground elevation information"
      ]
    },
    {
      "cell_type": "code",
      "execution_count": 18,
      "metadata": {},
      "outputs": [],
      "source": [
        "crs_transformer = Transformer.from_crs(4326, 25832, always_xy = True) # Transformer from WGS-84 to ETRS89-LAEA (3035 for EU-DEM v1.1, 25832 for LAS DEM)\n",
        "\n",
        "def transform_coords(lon, lat):\n",
        "    return crs_transformer.transform(lon, lat)"
      ]
    },
    {
      "cell_type": "code",
      "execution_count": 19,
      "metadata": {},
      "outputs": [],
      "source": [
        "final_df['gnd_elev'] = np.nan\n",
        "\n",
        "dem_src = rasterio.open('./resources/Cologne_DEM_merged_from_LAS_25x25.tif')\n",
        "\n",
        "final_df['etrs89_x'], final_df['etrs89_y'] = zip(*final_df.apply(lambda row: transform_coords(row['lon'], row['lat']), axis=1))\n"
      ]
    },
    {
      "cell_type": "code",
      "execution_count": 20,
      "metadata": {},
      "outputs": [],
      "source": [
        "def get_elevation(x, y, dem, default_value=None):\n",
        "    try:\n",
        "        row, col = dem.index(x, y)\n",
        "        return dem.read(1)[row, col]\n",
        "    except IndexError:\n",
        "        return default_value\n",
        "\n",
        "# If you already have 'gnd_elev' in your dataframe, you can pass it as the default_value\n",
        "final_df['gnd_elev'] = final_df.apply(\n",
        "    lambda row: get_elevation(row['etrs89_x'], row['etrs89_y'], dem_src, row.get('gnd_elev', None)), \n",
        "    axis=1\n",
        ")"
      ]
    },
    {
      "cell_type": "code",
      "execution_count": null,
      "metadata": {},
      "outputs": [],
      "source": [
        "missing_elev_count = final_df['gnd_elev'].isnull().sum()\n",
        "print(f\"Number of rows with None or NaN in 'gnd_elev': {missing_elev_count}\")\n",
        "final_df = final_df.dropna(subset=['gnd_elev'])\n"
      ]
    },
    {
      "cell_type": "markdown",
      "metadata": {},
      "source": [
        "# Add population density"
      ]
    },
    {
      "cell_type": "code",
      "execution_count": 22,
      "metadata": {},
      "outputs": [],
      "source": [
        "final_df['pop_density'] = np.nan\n",
        "\n",
        "pop_src = rasterio.open('./resources/GHS_POP_E2020_GLOBE_R2023A_4326_3ss_V1_0_Cologne.tif')\n",
        "\n",
        "def get_population(lon, lat, pop_src):\n",
        "    row, col = pop_src.index(lon, lat)\n",
        "    return pop_src.read(1)[row, col]\n",
        "\n",
        "final_df['pop_density'] = final_df.apply(lambda row: get_population(row['lon'], row['lat'], pop_src), axis=1)\n"
      ]
    },
    {
      "cell_type": "markdown",
      "metadata": {},
      "source": [
        "# Process df with distance information"
      ]
    },
    {
      "cell_type": "code",
      "execution_count": 23,
      "metadata": {},
      "outputs": [],
      "source": [
        "def haversine(pt1, pt2):\n",
        "    \"\"\"\n",
        "    Calculate the great circle distance between two points\n",
        "    on the earth (specified in decimal degrees)\n",
        "    Returned units are in metres. Differs slightly from PostGIS geography\n",
        "    distance, which uses a spheroid, rather than a sphere.\n",
        "    \"\"\"\n",
        "\n",
        "    lat1, lon1 = pt1[0], pt1[1]\n",
        "    lat2, lon2 = pt2[0], pt2[1]\n",
        "\n",
        "    # convert decimal degrees to radians\n",
        "    lon1, lat1, lon2, lat2 = map(radians, [lon1, lat1, lon2, lat2])\n",
        "\n",
        "    # haversine formula\n",
        "    dlon = lon2 - lon1\n",
        "    dlat = lat2 - lat1\n",
        "    a = sin(dlat / 2.0) ** 2 + cos(lat1) * cos(lat2) * sin(dlon / 2.0) ** 2\n",
        "    c = 2 * asin(sqrt(a))\n",
        "    r = 6371000  # Radius of earth in m\n",
        "    return c * r"
      ]
    },
    {
      "cell_type": "code",
      "execution_count": 24,
      "metadata": {},
      "outputs": [],
      "source": [
        "final_df[\"prev_time\"] = final_df.time.shift()\n",
        "final_df['closest_obst_name'] = ''\n",
        "final_df['inf_flt'] = False\n",
        "final_df['inf_pt'] = False\n",
        "final_df['gnd_inf_flt'] = False\n",
        "final_df['gnd_inf_pt'] = False\n",
        "final_df['min_hgt'] = np.nan\n",
        "final_df['congested'] = final_df['pop_density'] > 2\n",
        "\n",
        "map_time_traj = defaultdict(dict)\n",
        "\n",
        "for icao, sfinal_df in final_df.groupby(\"icao24\"):\n",
        "    map_time_traj[icao][sfinal_df.iloc[0][\"time\"]] = icao + \"_1\"\n",
        "    n_traj = 1\n",
        "    for i in range(1, sfinal_df.shape[0]):\n",
        "        time = sfinal_df.iloc[i][\"time\"]\n",
        "        diff = abs(int(time) - int(sfinal_df.iloc[i][\"prev_time\"]))\n",
        "        if diff > TIME_BETWEEN_TRAJS:\n",
        "            n_traj += 1\n",
        "        map_time_traj[icao][time] = icao + \"_\" + str(int(n_traj))\n",
        "\n",
        "final_df['ref'] = final_df.apply(lambda x: map_time_traj[x.icao24][x.time], axis=1) + '_' + final_df.time.apply(lambda x: pd.to_datetime(x, unit='s').strftime(\"%d%m%y\"))\n",
        "\n",
        "# Add a distance column and compute cumulative along-track distance for each flight\n",
        "final_df['dist'] = 0.0\n",
        "for flight in final_df.ref.unique():\n",
        "  first = True\n",
        "  current = final_df[final_df['ref'].isin([flight])] # gets the trajectory of the current flight\n",
        "  for row in current.itertuples():\n",
        "    if not(first):\n",
        "      current_pt = (float(row.lat), float(row.lon))\n",
        "      delta_dist = haversine(previous_pt, current_pt)\n",
        "      final_df.loc[row[0],'dist'] = previous_dist + delta_dist\n",
        "    previous_pt = (float(row.lat), float(row.lon))\n",
        "    previous_dist = final_df.loc[row[0],'dist']\n",
        "    first = False\n"
      ]
    },
    {
      "cell_type": "markdown",
      "metadata": {},
      "source": [
        "# Load obstacle information and check min height"
      ]
    },
    {
      "cell_type": "code",
      "execution_count": 25,
      "metadata": {},
      "outputs": [],
      "source": [
        "path_to_obstacles_json = './resources/LAC_obstacles_v1.csv'\n",
        "\n",
        "obs_df = pd.read_csv(path_to_obstacles_json)\n",
        "\n",
        "obs_df.rename(columns={'h': 'height_m'}, inplace=True)\n",
        "\n",
        "obs_df = obs_df.sort_values(by=['height_m']) # sort obstacles by incresing height, to avoid that the min_hgt profil is wrong if a shorter obstacle comes after a taller one, in case the aircraft is within two obstacles clearance areas\n"
      ]
    },
    {
      "cell_type": "code",
      "execution_count": 26,
      "metadata": {},
      "outputs": [],
      "source": [
        "# new. Test if this should not be done before adding the ref and distance info\n",
        "final_df_bkp = final_df.copy()\n",
        "final_df = final_df.reset_index(drop = True)"
      ]
    },
    {
      "cell_type": "code",
      "execution_count": 27,
      "metadata": {},
      "outputs": [],
      "source": [
        "def update_closest_obstacle_xy(final_df, obstacles_df):\n",
        "\n",
        "    # Extract the coordinates and obstacle heights\n",
        "    final_coords = final_df[['etrs89_x', 'etrs89_y']].to_numpy()\n",
        "    obstacle_coords = obstacles_df[['x', 'y']].to_numpy()\n",
        "    obstacle_heights = obstacles_df['height_m'].to_numpy()\n",
        "    obstacle_names = obstacles_df['LAC_Name'].to_numpy()\n",
        "    obstacle_ground_elevs = obstacles_df['gnd_elev'].to_numpy()\n",
        "\n",
        "    # Iterate over each point in final_df and calculate distances\n",
        "    for i, (x_f, y_f) in enumerate(final_coords):\n",
        "\n",
        "        radius = (CONGESTED_ALERT_DISTANCE_M if final_df.at[i, 'congested'] else NONCONGESTED_ALERT_DISTANCE_M)\n",
        "\n",
        "        # Convert radius to a squared radius for comparison with squared distances (faster than computing square roots)\n",
        "        squared_radius = radius ** 2\n",
        "\n",
        "        # Calculate squared Euclidean distances to all obstacles\n",
        "        distances_sq = (obstacle_coords[:, 0] - x_f) ** 2 + (obstacle_coords[:, 1] - y_f) ** 2\n",
        "        \n",
        "        # Filter obstacles within the radius\n",
        "        within_radius = distances_sq <= squared_radius\n",
        "        \n",
        "        # If there are obstacles within the radius, find the tallest one\n",
        "        if np.any(within_radius):\n",
        "            # Get the indices of obstacles within the radius\n",
        "            obstacles_in_radius_idx = np.where(within_radius)[0]\n",
        "            \n",
        "            # Find the index of the tallest obstacle within the radius\n",
        "            tallest_idx = obstacles_in_radius_idx[np.argmax(obstacle_heights[obstacles_in_radius_idx])]\n",
        "            \n",
        "            # Update final_df with the tallest obstacle details\n",
        "            tallest_obstacle_name = obstacle_names[tallest_idx]\n",
        "            tallest_obstacle_height = obstacle_heights[tallest_idx]\n",
        "            tallest_obstacle_elev = obstacle_ground_elevs[tallest_idx]\n",
        "            \n",
        "            final_df.at[i, 'closest_obst_name'] = tallest_obstacle_name\n",
        "\n",
        "            final_df.at[i, 'min_hgt'] = (\n",
        "                GEOID_HEIGHT_M + np.float32(tallest_obstacle_elev) +\n",
        "                np.float32(tallest_obstacle_height) + \n",
        "                (CONGESTED_ALERT_DELTA_HEIGHT_M if final_df.at[i, 'congested'] else NONCONGESTED_ALERT_DELTA_HEIGHT_M)\n",
        "            )\n",
        "        else:\n",
        "            final_df.at[i, 'closest_obst_name'] = 'ground'\n",
        "            final_df.at[i, 'min_hgt'] = (CONGESTED_ALERT_DELTA_HEIGHT_M if final_df.at[i, 'congested'] else NONCONGESTED_ALERT_DELTA_HEIGHT_M)\n",
        "\n",
        "    return final_df\n"
      ]
    },
    {
      "cell_type": "code",
      "execution_count": 28,
      "metadata": {},
      "outputs": [],
      "source": [
        "final_df = update_closest_obstacle_xy(final_df, obs_df)\n",
        "\n",
        "final_df['dip'] = final_df['min_hgt'] - final_df['geoaltitude']"
      ]
    },
    {
      "cell_type": "markdown",
      "metadata": {},
      "source": [
        "# Add infraction information"
      ]
    },
    {
      "cell_type": "code",
      "execution_count": 29,
      "metadata": {},
      "outputs": [],
      "source": [
        "# Rule for 'inf_pt'\n",
        "final_df['inf_pt'] = final_df.apply(\n",
        "    lambda row: \n",
        "        True if row['dip'] > 0 and row['closest_obst_name'] != 'ground' \n",
        "    else \n",
        "        False,\n",
        "    axis=1\n",
        ")\n",
        "\n",
        "# Rule for 'gnd_inf_pt'\n",
        "final_df['gnd_inf_pt'] = final_df.apply(\n",
        "    lambda row: True if (row['dip'] > 0 and row['closest_obst_name'] == 'ground') else False,\n",
        "    axis=1\n",
        ")\n",
        "\n",
        "# Group by 'ref' and update 'inf_flt' based on 'inf_pt'\n",
        "final_df['inf_flt'] = final_df.groupby('ref')['inf_pt'].transform('any')\n",
        "\n",
        "# Group by 'ref' and update 'gnd_inf_flt' based on 'gnd_inf_pt'\n",
        "final_df['gnd_inf_flt'] = final_df.groupby('ref')['gnd_inf_pt'].transform('any')\n",
        "\n",
        "final_df = final_df.drop(columns=['serials', 'nacv'])\n"
      ]
    },
    {
      "cell_type": "code",
      "execution_count": null,
      "metadata": {},
      "outputs": [],
      "source": [
        "final_df[final_df['gnd_inf_pt']].callsign.unique()"
      ]
    },
    {
      "cell_type": "code",
      "execution_count": null,
      "metadata": {},
      "outputs": [],
      "source": [
        "missing_callsign = final_df['callsign'].isnull().sum()\n",
        "print(f\"Number of rows with None or NaN in 'callsign': {missing_callsign}\")\n",
        "final_df = final_df.dropna(subset=['callsign'])"
      ]
    },
    {
      "cell_type": "markdown",
      "metadata": {},
      "source": [
        "# Create infraction tables"
      ]
    },
    {
      "cell_type": "code",
      "execution_count": 32,
      "metadata": {},
      "outputs": [],
      "source": [
        "inf_result = pd.DataFrame\n",
        "gnd_inf_result = pd.DataFrame()"
      ]
    },
    {
      "cell_type": "code",
      "execution_count": 33,
      "metadata": {},
      "outputs": [],
      "source": [
        "inf_pt_df = final_df[final_df.inf_pt].copy()\n",
        "\n",
        "#lat, lon = obs_df.loc[obs_df['name'] == 'Ringturm', ['lat', 'lon']].values[0]\n",
        "\n",
        "inf_pt_df['dist_to_obs'] = np.nan\n",
        "\n",
        "inf_pt_df['dist_to_obs'] = inf_pt_df.apply(\n",
        "    lambda x: haversine(\n",
        "            (obs_df.loc[obs_df['LAC_Name'] == x['closest_obst_name'], 'lat'].iloc[0],\n",
        "            obs_df.loc[obs_df['LAC_Name'] == x['closest_obst_name'], 'lon'].iloc[0]),\n",
        "            (x['lat'], x['lon'])\n",
        "    ) if not (x['closest_obst_name'] == 'ground') else np.nan, \n",
        "    axis=1\n",
        ")\n",
        "\n",
        "inf_pt_df['time'] = pd.to_datetime(inf_pt_df['time'], unit='s')\n",
        "inf_pt_df = inf_pt_df.sort_values(by=['ref', 'closest_obst_name', 'time'])\n",
        "\n",
        "inf_pt_df['time_diff'] = inf_pt_df.groupby(['ref', 'closest_obst_name'])['time'].diff()\n",
        "inf_pt_df['group'] = (inf_pt_df['time_diff'] >= pd.Timedelta(seconds=30)).cumsum()\n",
        "\n",
        "inf_grouped = inf_pt_df.groupby(['ref', 'closest_obst_name', 'group'])\n",
        "\n",
        "inf_min_dist = inf_grouped.apply(lambda x: x.loc[x['dist_to_obs'].idxmin()]).reset_index(drop=True)\n",
        "inf_max_dip = inf_grouped['dip'].max().reset_index()\n",
        "\n",
        "group_size = inf_grouped.size().reset_index(name='n')\n",
        "\n",
        "inf_result = inf_min_dist[['icao24', 'callsign', 'group', 'ref', 'closest_obst_name', 'time', 'lat', 'lon', 'dist_to_obs', 'congested', 'pop_density', 'systemdesignassurance', 'version', 'positionnac', 'sourceintegritylevel', 'nic']].copy()\n",
        "inf_result = inf_result.merge(inf_max_dip, on=['ref', 'closest_obst_name', 'group'])\n",
        "inf_result = inf_result.merge(group_size, on=['ref', 'closest_obst_name', 'group'])\n",
        "\n",
        "inf_result.rename(columns={'dist_to_obs': 'cpa', 'dip': 'dip_max'}, inplace=True)\n",
        "\n",
        "inf_result['entry_count'] = inf_result.groupby('ref').cumcount()\n",
        "inf_result['inf_ref'] = inf_result['ref'].astype(str) + '_' + inf_result['entry_count'].astype(str)\n",
        "\n",
        "inf_result['url'] = inf_result.apply(lambda row: \"https://globe.adsbexchange.com/?icao=%s&lat=50.928&lon=6.947&zoom=13.2&showTrace=%s&timestamp=%s\" % (\n",
        "    row['icao24'],\n",
        "    row['time'].strftime('%Y-%m-%d'),\n",
        "    str(int(row['time'].timestamp()))\n",
        "), axis=1)\n",
        "\n",
        "inf_result = inf_result.reset_index(drop=True)\n",
        "\n",
        "inf_result = inf_result.drop(columns=['entry_count', 'group'])"
      ]
    },
    {
      "cell_type": "code",
      "execution_count": null,
      "metadata": {},
      "outputs": [],
      "source": [
        "inf_result"
      ]
    },
    {
      "cell_type": "markdown",
      "metadata": {},
      "source": [
        "Ground infractions"
      ]
    },
    {
      "cell_type": "code",
      "execution_count": 35,
      "metadata": {},
      "outputs": [],
      "source": [
        "gnd_inf_pt_df = final_df[final_df.gnd_inf_pt & (final_df.dip >= 0) & (final_df.closest_obst_name == 'ground')].copy()\n",
        "\n",
        "gnd_inf_pt_df['time'] = pd.to_datetime(gnd_inf_pt_df['time'], unit='s')\n",
        "gnd_inf_pt_df = gnd_inf_pt_df.sort_values(by=['ref', 'time'])\n",
        "\n",
        "gnd_inf_pt_df['time_diff'] = gnd_inf_pt_df.groupby(['ref'])['time'].diff()\n",
        "gnd_inf_pt_df['group'] = (gnd_inf_pt_df['time_diff'] >= pd.Timedelta(seconds=30)).cumsum()\n",
        "\n",
        "gnd_inf_grouped = gnd_inf_pt_df.groupby(['ref', 'group'])\n",
        "\n",
        "gnd_inf_max_dip = gnd_inf_grouped.apply(lambda x: x.loc[x['dip'].idxmax()]).reset_index(drop=True)\n",
        "\n",
        "group_size = gnd_inf_grouped.size().reset_index(name='n')\n",
        "\n",
        "gnd_inf_result = gnd_inf_max_dip[['icao24', 'callsign', 'group', 'ref', 'closest_obst_name', 'time', 'lat', 'lon', 'dip', 'congested', 'pop_density', 'systemdesignassurance', 'version', 'positionnac', 'sourceintegritylevel', 'nic']].copy()\n",
        "\n",
        "gnd_inf_result = gnd_inf_result.merge(group_size, on=['ref', 'group'])\n",
        "\n",
        "gnd_inf_result.rename(columns={'dip': 'dip_max'}, inplace=True)\n",
        "\n",
        "gnd_inf_result['entry_count'] = gnd_inf_result.groupby('ref').cumcount()\n",
        "gnd_inf_result['inf_ref'] = gnd_inf_result['ref'].astype(str) + '_' + 'gnd_' + gnd_inf_result['entry_count'].astype(str)\n",
        "\n",
        "gnd_inf_result['url'] = gnd_inf_result.apply(lambda row: \"https://globe.adsbexchange.com/?icao=%s&lat=50.928&lon=6.947&zoom=13.2&showTrace=%s&timestamp=%s\" % (\n",
        "    row['icao24'],\n",
        "    row['time'].strftime('%Y-%m-%d'),\n",
        "    str(int(row['time'].timestamp()))\n",
        "), axis=1)\n",
        "\n",
        "gnd_inf_result = gnd_inf_result.reset_index(drop=True)\n",
        "\n",
        "gnd_inf_result = gnd_inf_result.drop(columns=['entry_count', 'group'])\n",
        "\n"
      ]
    },
    {
      "cell_type": "code",
      "execution_count": null,
      "metadata": {},
      "outputs": [],
      "source": [
        "gnd_inf_result.callsign.unique()"
      ]
    },
    {
      "cell_type": "code",
      "execution_count": null,
      "metadata": {},
      "outputs": [],
      "source": [
        "gnd_inf_result.columns"
      ]
    },
    {
      "cell_type": "code",
      "execution_count": null,
      "metadata": {},
      "outputs": [],
      "source": [
        "inf_result.columns"
      ]
    },
    {
      "cell_type": "markdown",
      "metadata": {},
      "source": [
        "# Upload data to MySQL server"
      ]
    },
    {
      "cell_type": "code",
      "execution_count": null,
      "metadata": {},
      "outputs": [],
      "source": [
        "ed25519_key = paramiko.Ed25519Key(filename='/home/dimitri/.ssh/id_ed25519')\n",
        "\n",
        "# Set up the SSH tunnel with the RSA key\n",
        "with SSHTunnelForwarder(\n",
        "    (MYSQL_creds['SSH_ADDRESS'], 22),\n",
        "    ssh_username=MYSQL_creds['SSH_USERNAME'],\n",
        "    ssh_pkey=ed25519_key,  # Use the loaded RSA key\n",
        "    remote_bind_address=(MYSQL_creds['REMOTE_BIND_ADDRESS'], MYSQL_creds['REMOTE_BIND_PORT']),\n",
        "    allow_agent=False,\n",
        ") as tunnel:\n",
        "    \n",
        "    print('connected')\n",
        "\n",
        "    engstr =  'mysql+pymysql://' + MYSQL_creds['SSH_USERNAME'] + ':' + MYSQL_creds['PYANYWHERE_PASSWORD'] + '@127.0.0.1:' + str(tunnel.local_bind_port)+'/dme3$' + MYSQL_creds['PROD_DATABASE_NAME']\n",
        "\n",
        "    engine = create_engine(engstr)\n",
        "\n",
        "    print('step 1')\n",
        "    final_df.to_sql(con=engine, name = MYSQL_creds['MAIN_PROD_TABLE_NAME'], if_exists='append')\n",
        "    print('step 2')\n",
        "    inf_result.to_sql(con=engine, name = MYSQL_creds['INF_PROD_TABLE_NAME'], if_exists='append')\n",
        "    print('step 3')\n",
        "    gnd_inf_result.to_sql(con=engine, name = MYSQL_creds['GNDINF_PROD_TABLE_NAME'], if_exists='append')\n",
        "\n",
        "    print(\"Done\")"
      ]
    },
    {
      "cell_type": "markdown",
      "metadata": {},
      "source": [
        "# View results"
      ]
    },
    {
      "cell_type": "code",
      "execution_count": null,
      "metadata": {},
      "outputs": [],
      "source": [
        "inf_result"
      ]
    },
    {
      "cell_type": "markdown",
      "metadata": {},
      "source": [
        "# Load Distant data for tests"
      ]
    },
    {
      "cell_type": "code",
      "execution_count": null,
      "metadata": {},
      "outputs": [],
      "source": [
        "with sshtunnel.SSHTunnelForwarder(\n",
        "    (MYSQL_creds['SSH_ADDRESS']),\n",
        "    ssh_username = MYSQL_creds['SSH_USERNAME'], ssh_password = MYSQL_creds['SSH_PASSWORD'],\n",
        "    remote_bind_address = (MYSQL_creds['REMOTE_BIND_ADDRESS'], MYSQL_creds['REMOTE_BIND_PORT'])\n",
        ") as tunnel:\n",
        "    print('connected')\n",
        "\n",
        "    engstr =  'mysql+pymysql://' + MYSQL_creds['SSH_USERNAME'] + ':' + MYSQL_creds['PYANYWHERE_PASSWORD'] + '@127.0.0.1:' + str(tunnel.local_bind_port)+'/dme3$' + MYSQL_creds['TEST_DATABASE_NAME']\n",
        "\n",
        "    engine = create_engine(engstr)\n",
        "\n",
        "    sql_query = \"\"\"\n",
        "    SELECT ref, lat, lon \n",
        "    FROM main_data_test\n",
        "    WHERE positionnac >= 8\n",
        "    \"\"\"\n",
        "    \n",
        "    distant_df = pd.read_sql(sql_query, con=engine)"
      ]
    },
    {
      "cell_type": "code",
      "execution_count": null,
      "metadata": {
        "vscode": {
          "languageId": "sql"
        }
      },
      "outputs": [],
      "source": [
        "SELECT \n",
        "    COLUMN_NAME, \n",
        "    IS_NULLABLE \n",
        "FROM \n",
        "    INFORMATION_SCHEMA.COLUMNS \n",
        "WHERE \n",
        "    TABLE_NAME = 'main_data_test' \n",
        "    AND TABLE_SCHEMA = 'testdatabase';"
      ]
    }
  ],
  "metadata": {
    "colab": {
      "provenance": []
    },
    "kernelspec": {
      "display_name": "obstaclecheck",
      "language": "python",
      "name": "python3"
    },
    "language_info": {
      "codemirror_mode": {
        "name": "ipython",
        "version": 3
      },
      "file_extension": ".py",
      "mimetype": "text/x-python",
      "name": "python",
      "nbconvert_exporter": "python",
      "pygments_lexer": "ipython3",
      "version": "3.10.9"
    }
  },
  "nbformat": 4,
  "nbformat_minor": 0
}
