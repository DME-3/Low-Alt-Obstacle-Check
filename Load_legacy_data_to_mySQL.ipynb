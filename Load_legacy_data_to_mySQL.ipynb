{
 "cells": [
  {
   "cell_type": "code",
   "execution_count": 18,
   "metadata": {},
   "outputs": [],
   "source": [
    "import pandas as pd\n",
    "import os\n",
    "\n",
    "from glob import glob\n",
    "\n",
    "from sshtunnel import SSHTunnelForwarder\n",
    "\n",
    "import paramiko\n",
    "import geopandas as gpd\n",
    "import numpy as np\n",
    "import json\n",
    "import rasterio\n",
    "import sshtunnel\n",
    "import MySQLdb\n",
    "\n",
    "from sqlalchemy import (\n",
    "    Connection,\n",
    "    CursorResult,\n",
    "    Engine,\n",
    "    Select,\n",
    "    TextClause,\n",
    "    create_engine,\n",
    "    func,\n",
    "    select,\n",
    ")"
   ]
  },
  {
   "cell_type": "code",
   "execution_count": 2,
   "metadata": {},
   "outputs": [],
   "source": [
    "pkl_files = glob(os.path.join('./OSN_pickles', '**', '*.pkl'), recursive=True)"
   ]
  },
  {
   "cell_type": "code",
   "execution_count": 6,
   "metadata": {},
   "outputs": [],
   "source": [
    "osn_data = pd.read_pickle(pkl_files[10])"
   ]
  },
  {
   "cell_type": "code",
   "execution_count": 7,
   "metadata": {},
   "outputs": [
    {
     "data": {
      "text/plain": [
       "array([266.7 , 259.08, 251.46, 243.84, 243.84, 236.22, 228.6 , 220.98,\n",
       "       213.36, 205.74, 198.12, 190.5 , 190.5 , 182.88, 175.26, 167.64,\n",
       "       160.02, 289.56, 281.94, 274.32, 266.7 , 259.08, 251.46, 274.32,\n",
       "       297.18, 304.8 , 312.42, 320.04, 594.36, 601.98, 487.68, 495.3 ,\n",
       "       480.06, 472.44, 441.96, 434.34, 426.72, 419.1 , 411.48, 403.86,\n",
       "       396.24, 388.62, 381.  , 464.82, 457.2 , 472.44, 480.06, 449.58,\n",
       "       358.14, 365.76, 373.38, 350.52, 342.9 , 335.28, 327.66, 464.82,\n",
       "       373.38, 358.14, 365.76, 571.5 , 579.12, 563.88, 609.6 , 297.18,\n",
       "       304.8 , 236.22, 228.6 , 220.98, 182.88, 175.26, 167.64, 152.4 ,\n",
       "       312.42, 320.04, 327.66, 342.9 , 381.  , 388.62, 396.24, 746.76,\n",
       "       678.18, 685.8 , 693.42, 701.04, 708.66, 716.28, 723.9 , 746.76,\n",
       "       739.14, 731.52, 251.46, 434.34, 350.52, 335.28, 487.68, 495.3 ,\n",
       "       502.92, 144.78, 137.16, 129.54, 121.92, 510.54, 510.54, 518.16,\n",
       "       670.56, 662.94, 655.32, 647.7 , 640.08, 632.46, 624.84, 617.22,\n",
       "       586.74, 563.88, 556.26, 548.64, 556.26, 289.56, 518.16, 525.78,\n",
       "       502.92, 533.4 , 525.78, 541.02, 533.4 , 121.92, 114.3 , 106.68,\n",
       "       457.2 , 655.32, 541.02, 548.64, 213.36, 685.8 , 708.66, 716.28,\n",
       "       670.56, 701.04, 281.94, 510.54, 662.94, 678.18, 693.42, 723.9 ,\n",
       "       449.58, 441.96, 426.72, 198.12, 640.08, 647.7 , 624.84, 579.12,\n",
       "       160.02, 739.14, 731.52, 152.4 , 502.92, 586.74, 137.16, 129.54,\n",
       "       144.78, 312.42, 220.98, 228.6 ,  99.06, 106.68, 114.3 , 243.84,\n",
       "       114.3 , 106.68, 624.84, 609.6 , 601.98])"
      ]
     },
     "execution_count": 7,
     "metadata": {},
     "output_type": "execute_result"
    }
   ],
   "source": [
    "osn_data.geoaltitude.unique()"
   ]
  },
  {
   "cell_type": "code",
   "execution_count": 9,
   "metadata": {},
   "outputs": [],
   "source": [
    "gdf_files = glob(os.path.join('./dataframes', '*', 'gdf*.json'))  # First level\n",
    "gdf_files.extend(glob(os.path.join('./dataframes', 'gdf*.json')))  # Base directory\n"
   ]
  },
  {
   "cell_type": "code",
   "execution_count": 10,
   "metadata": {},
   "outputs": [
    {
     "data": {
      "text/plain": [
       "['./dataframes/2022-08-01_2022-08-31/gdf_2022-08-01_2022-08-31.json',\n",
       " './dataframes/2024-01-01_2024-01-31/gdf_2024-01-01_2024-01-31.json',\n",
       " './dataframes/2023-08-08_2023-08-15/gdf_2023-08-08_2023-08-15.json',\n",
       " './dataframes/2021-10-01_2021-10-31/gdf_2021-10-01_2021-10-31.json',\n",
       " './dataframes/2024-07-01_2024-07-31/gdf_2024-07-01_2024-07-31.json',\n",
       " './dataframes/2021-07-01_2021-07-31/gdf_2021-07-01_2021-07-31.json',\n",
       " './dataframes/2023-07-16_2023-07-31/gdf_2023-07-16_2023-07-31.json',\n",
       " './dataframes/2022-12-01_2022-12-31/gdf_2022-12-01_2022-12-31.json',\n",
       " './dataframes/2021-05-01_2021-05-31/gdf_2021-05-01_2021-05-31.json',\n",
       " './dataframes/2021-11-01_2021-11-30/gdf_2021-11-01_2021-11-30.json',\n",
       " './dataframes/2023-04-01_2023-04-30/gdf_2023-04-01_2023-04-30.json',\n",
       " './dataframes/2024-02-01_2024-02-29/gdf_2024-02-01_2024-02-29.json',\n",
       " './dataframes/2023-09-01_2023-09-07_TO_CHECK/gdf_2023-09-01_2023-09-07.json',\n",
       " './dataframes/2021-02-01_2021-02-28/gdf_2021-02-01_2021-02-28.json',\n",
       " './dataframes/2023-12-15_2023-12-31/gdf_2023-12-15_2023-12-31.json',\n",
       " './dataframes/2024-03-01_2024-03-31/gdf_2024-03-01_2024-03-31.json',\n",
       " './dataframes/2023-06-16_2023-06-30/gdf_2023-06-16_2023-06-30.json',\n",
       " './dataframes/2021-08-01_2021-08-31/gdf_2021-08-01_2021-08-31.json',\n",
       " './dataframes/2023-09-17_2023-09-19/gdf_2023-09-17_2023-09-19.json',\n",
       " './dataframes/2023-10-01_2023-10-14/gdf_2023-10-01_2023-10-14.json',\n",
       " './dataframes/2023-09-01_2023-09-15_KO/gdf_2023-09-01_2023-09-15.json',\n",
       " './dataframes/2023-08-16_2023-08-31/gdf_2023-08-16_2023-08-31.json',\n",
       " './dataframes/2023-09-11_2023-09-13/gdf_2023-09-11_2023-09-13.json',\n",
       " './dataframes/2021-04-01_2021-04-30/gdf_2021-04-01_2021-04-30.json',\n",
       " './dataframes/2023-09-20_2023-09-22/gdf_2023-09-20_2023-09-22.json',\n",
       " './dataframes/2021-06-01_2021-06-30/gdf_2021-06-01_2021-06-30.json',\n",
       " './dataframes/2021-01-01_2021-01-31/gdf_2021-01-01_2021-01-31.json',\n",
       " './dataframes/2022-07-01_2022-07-31/gdf_2022-07-01_2022-07-31.json',\n",
       " './dataframes/2024-04-01_2024-04-30/gdf_2024-04-01_2024-04-30.json',\n",
       " './dataframes/2022-10-01_2022-10-31/gdf_2022-10-01_2022-10-31.json',\n",
       " './dataframes/2023-09-17_2023-09-30/gdf_2023-09-17_2023-09-30.json',\n",
       " './dataframes/2023-01-01_2023-01-31/gdf_2023-01-01_2023-01-31.json',\n",
       " './dataframes/2023-02-01_2023-02-28/gdf_2023-02-01_2023-02-28.json',\n",
       " './dataframes/2023-09-07_2023-09-07/gdf_2023-09-07_2023-09-07.json',\n",
       " './dataframes/2023-12-01_2023-12-14/gdf_2023-12-01_2023-12-14.json',\n",
       " './dataframes/2023-09-08_2023-09-10/gdf_2023-09-08_2023-09-10.json',\n",
       " './dataframes/2023-09-14_2023-09-14/gdf_2023-09-14_2023-09-14.json',\n",
       " './dataframes/2024-05-01_2024-05-31/gdf_2024-05-01_2024-05-31.json',\n",
       " './dataframes/2023-09-01_2023-09-03/gdf_2023-09-01_2023-09-03.json',\n",
       " './dataframes/2023-03-01_2023-03-31/gdf_2023-03-01_2023-03-31.json',\n",
       " './dataframes/2023-11-15_2023-11-30/gdf_2023-11-15_2023-11-30.json',\n",
       " './dataframes/2023-05-01_2023-05-15/gdf_2023-05-01_2023-05-15.json',\n",
       " './dataframes/2023-09-04_2023-09-06/gdf_2023-09-04_2023-09-06.json',\n",
       " './dataframes/2023-05-16_2023-05-31/gdf_2023-05-16_2023-05-31.json',\n",
       " './dataframes/2023-07-27_2023-07-31/gdf_2023-07-27_2023-07-31.json',\n",
       " './dataframes/2023-09-15_2023-09-21_KO/gdf_2023-09-15_2023-09-21.json',\n",
       " './dataframes/2022-01-01_2022-06-30/gdf_2022-01-01_2022-06-30.json',\n",
       " './dataframes/2023-08-01_2023-08-06/gdf_2023-08-01_2023-08-06.json',\n",
       " './dataframes/2021-09-01_2021-09-30/gdf_2021-09-01_2021-09-30.json',\n",
       " './dataframes/2021-03-01_2021-03-31/gdf_2021-03-01_2021-03-31.json',\n",
       " './dataframes/2023-09-15_2023-09-16/gdf_2023-09-15_2023-09-16.json',\n",
       " './dataframes/2023-07-01_2023-07-15/gdf_2023-07-01_2023-07-15.json',\n",
       " './dataframes/2023-06-01_2023-06-15/gdf_2023-06-01_2023-06-15.json',\n",
       " './dataframes/2021-12-01_2021-12-31/gdf_2021-12-01_2021-12-31.json',\n",
       " './dataframes/2022-09-01_2022-09-30/gdf_2022-09-01_2022-09-30.json',\n",
       " './dataframes/2023-11-01_2023-11-14/gdf_2023-11-01_2023-11-14.json',\n",
       " './dataframes/2024-06-01_2024-06-30/gdf_2024-06-01_2024-06-30.json',\n",
       " './dataframes/2022-11-01_2022-11-30/gdf_2022-11-01_2022-11-30.json',\n",
       " './dataframes/2023-10-15_2023-10-31/gdf_2023-10-15_2023-10-31.json']"
      ]
     },
     "execution_count": 10,
     "metadata": {},
     "output_type": "execute_result"
    }
   ],
   "source": [
    "gdf_files"
   ]
  },
  {
   "cell_type": "code",
   "execution_count": 11,
   "metadata": {},
   "outputs": [],
   "source": [
    "gdf_data = pd.read_json(gdf_files[10])"
   ]
  },
  {
   "cell_type": "code",
   "execution_count": 12,
   "metadata": {},
   "outputs": [
    {
     "data": {
      "text/html": [
       "<div>\n",
       "<style scoped>\n",
       "    .dataframe tbody tr th:only-of-type {\n",
       "        vertical-align: middle;\n",
       "    }\n",
       "\n",
       "    .dataframe tbody tr th {\n",
       "        vertical-align: top;\n",
       "    }\n",
       "\n",
       "    .dataframe thead th {\n",
       "        text-align: right;\n",
       "    }\n",
       "</style>\n",
       "<table border=\"1\" class=\"dataframe\">\n",
       "  <thead>\n",
       "    <tr style=\"text-align: right;\">\n",
       "      <th></th>\n",
       "      <th>time</th>\n",
       "      <th>icao24</th>\n",
       "      <th>lat</th>\n",
       "      <th>lon</th>\n",
       "      <th>velocity</th>\n",
       "      <th>heading</th>\n",
       "      <th>callsign</th>\n",
       "      <th>onground</th>\n",
       "      <th>squawk</th>\n",
       "      <th>baroaltitude</th>\n",
       "      <th>...</th>\n",
       "      <th>hour</th>\n",
       "      <th>ref</th>\n",
       "      <th>inf_flt</th>\n",
       "      <th>inf_pt</th>\n",
       "      <th>dist</th>\n",
       "      <th>gnd_elev</th>\n",
       "      <th>gnd_inf_flt</th>\n",
       "      <th>gnd_inf_pt</th>\n",
       "      <th>min_hgt</th>\n",
       "      <th>lidar_min_alt</th>\n",
       "    </tr>\n",
       "  </thead>\n",
       "  <tbody>\n",
       "    <tr>\n",
       "      <th>0</th>\n",
       "      <td>1681498398</td>\n",
       "      <td>3cc004</td>\n",
       "      <td>50.919629</td>\n",
       "      <td>6.991653</td>\n",
       "      <td>92.669915</td>\n",
       "      <td>87.772953</td>\n",
       "      <td>UNI131</td>\n",
       "      <td>false</td>\n",
       "      <td>5571</td>\n",
       "      <td>746.76</td>\n",
       "      <td>...</td>\n",
       "      <td>1681495200</td>\n",
       "      <td>3cc004_1_140423</td>\n",
       "      <td>False</td>\n",
       "      <td>False</td>\n",
       "      <td>0.000000</td>\n",
       "      <td>49.901081</td>\n",
       "      <td>False</td>\n",
       "      <td>False</td>\n",
       "      <td>463.594711</td>\n",
       "      <td>460.57</td>\n",
       "    </tr>\n",
       "    <tr>\n",
       "      <th>1</th>\n",
       "      <td>1681498399</td>\n",
       "      <td>3cc004</td>\n",
       "      <td>50.919676</td>\n",
       "      <td>6.993179</td>\n",
       "      <td>92.669915</td>\n",
       "      <td>87.772953</td>\n",
       "      <td>UNI131</td>\n",
       "      <td>false</td>\n",
       "      <td>5571</td>\n",
       "      <td>739.14</td>\n",
       "      <td>...</td>\n",
       "      <td>1681495200</td>\n",
       "      <td>3cc004_1_140423</td>\n",
       "      <td>False</td>\n",
       "      <td>False</td>\n",
       "      <td>107.086772</td>\n",
       "      <td>49.591351</td>\n",
       "      <td>False</td>\n",
       "      <td>False</td>\n",
       "      <td>463.594711</td>\n",
       "      <td>460.57</td>\n",
       "    </tr>\n",
       "    <tr>\n",
       "      <th>2</th>\n",
       "      <td>1681498400</td>\n",
       "      <td>3cc004</td>\n",
       "      <td>50.919676</td>\n",
       "      <td>6.994247</td>\n",
       "      <td>92.155862</td>\n",
       "      <td>87.760524</td>\n",
       "      <td>UNI131</td>\n",
       "      <td>false</td>\n",
       "      <td>5571</td>\n",
       "      <td>731.52</td>\n",
       "      <td>...</td>\n",
       "      <td>1681495200</td>\n",
       "      <td>3cc004_1_140423</td>\n",
       "      <td>False</td>\n",
       "      <td>False</td>\n",
       "      <td>181.959847</td>\n",
       "      <td>49.971550</td>\n",
       "      <td>False</td>\n",
       "      <td>False</td>\n",
       "      <td>463.594711</td>\n",
       "      <td>460.57</td>\n",
       "    </tr>\n",
       "    <tr>\n",
       "      <th>3</th>\n",
       "      <td>1681498401</td>\n",
       "      <td>3cc004</td>\n",
       "      <td>50.919708</td>\n",
       "      <td>6.995544</td>\n",
       "      <td>91.641813</td>\n",
       "      <td>87.747956</td>\n",
       "      <td>UNI131</td>\n",
       "      <td>false</td>\n",
       "      <td>5571</td>\n",
       "      <td>731.52</td>\n",
       "      <td>...</td>\n",
       "      <td>1681495200</td>\n",
       "      <td>3cc004_1_140423</td>\n",
       "      <td>False</td>\n",
       "      <td>False</td>\n",
       "      <td>272.949299</td>\n",
       "      <td>50.352779</td>\n",
       "      <td>False</td>\n",
       "      <td>False</td>\n",
       "      <td>463.594711</td>\n",
       "      <td>460.57</td>\n",
       "    </tr>\n",
       "    <tr>\n",
       "      <th>4</th>\n",
       "      <td>1681498402</td>\n",
       "      <td>3cc004</td>\n",
       "      <td>50.919769</td>\n",
       "      <td>6.996841</td>\n",
       "      <td>91.149547</td>\n",
       "      <td>87.412121</td>\n",
       "      <td>UNI131</td>\n",
       "      <td>false</td>\n",
       "      <td>5571</td>\n",
       "      <td>723.90</td>\n",
       "      <td>...</td>\n",
       "      <td>1681495200</td>\n",
       "      <td>3cc004_1_140423</td>\n",
       "      <td>False</td>\n",
       "      <td>False</td>\n",
       "      <td>364.115178</td>\n",
       "      <td>51.000000</td>\n",
       "      <td>False</td>\n",
       "      <td>False</td>\n",
       "      <td>462.545879</td>\n",
       "      <td>461.48</td>\n",
       "    </tr>\n",
       "  </tbody>\n",
       "</table>\n",
       "<p>5 rows × 23 columns</p>\n",
       "</div>"
      ],
      "text/plain": [
       "         time  icao24        lat       lon   velocity    heading callsign  \\\n",
       "0  1681498398  3cc004  50.919629  6.991653  92.669915  87.772953   UNI131   \n",
       "1  1681498399  3cc004  50.919676  6.993179  92.669915  87.772953   UNI131   \n",
       "2  1681498400  3cc004  50.919676  6.994247  92.155862  87.760524   UNI131   \n",
       "3  1681498401  3cc004  50.919708  6.995544  91.641813  87.747956   UNI131   \n",
       "4  1681498402  3cc004  50.919769  6.996841  91.149547  87.412121   UNI131   \n",
       "\n",
       "  onground  squawk  baroaltitude  ...        hour              ref  inf_flt  \\\n",
       "0    false    5571        746.76  ...  1681495200  3cc004_1_140423    False   \n",
       "1    false    5571        739.14  ...  1681495200  3cc004_1_140423    False   \n",
       "2    false    5571        731.52  ...  1681495200  3cc004_1_140423    False   \n",
       "3    false    5571        731.52  ...  1681495200  3cc004_1_140423    False   \n",
       "4    false    5571        723.90  ...  1681495200  3cc004_1_140423    False   \n",
       "\n",
       "   inf_pt        dist   gnd_elev  gnd_inf_flt  gnd_inf_pt     min_hgt  \\\n",
       "0   False    0.000000  49.901081        False       False  463.594711   \n",
       "1   False  107.086772  49.591351        False       False  463.594711   \n",
       "2   False  181.959847  49.971550        False       False  463.594711   \n",
       "3   False  272.949299  50.352779        False       False  463.594711   \n",
       "4   False  364.115178  51.000000        False       False  462.545879   \n",
       "\n",
       "   lidar_min_alt  \n",
       "0         460.57  \n",
       "1         460.57  \n",
       "2         460.57  \n",
       "3         460.57  \n",
       "4         461.48  \n",
       "\n",
       "[5 rows x 23 columns]"
      ]
     },
     "execution_count": 12,
     "metadata": {},
     "output_type": "execute_result"
    }
   ],
   "source": [
    "gdf_data.head()"
   ]
  },
  {
   "cell_type": "code",
   "execution_count": 13,
   "metadata": {},
   "outputs": [
    {
     "data": {
      "text/plain": [
       "Index(['time', 'icao24', 'lat', 'lon', 'velocity', 'heading', 'callsign',\n",
       "       'onground', 'squawk', 'baroaltitude', 'geoaltitude', 'lastposupdate',\n",
       "       'lastcontact', 'hour', 'ref', 'inf_flt', 'inf_pt', 'dist', 'gnd_elev',\n",
       "       'gnd_inf_flt', 'gnd_inf_pt', 'min_hgt', 'lidar_min_alt'],\n",
       "      dtype='object')"
      ]
     },
     "execution_count": 13,
     "metadata": {},
     "output_type": "execute_result"
    }
   ],
   "source": [
    "gdf_data.columns"
   ]
  },
  {
   "cell_type": "code",
   "execution_count": 15,
   "metadata": {},
   "outputs": [],
   "source": [
    "gdf_data['positionnac'] = 10\n",
    "gdf_data['version'] = 2\n",
    "\n"
   ]
  },
  {
   "cell_type": "code",
   "execution_count": 17,
   "metadata": {},
   "outputs": [],
   "source": [
    "\n",
    "MYSQL_secrets_json = './mysql_secrets.json'\n",
    "\n",
    "\n",
    "with open(MYSQL_secrets_json) as MYSQL_secrets:\n",
    "  MYSQL_creds = json.load(MYSQL_secrets)\n"
   ]
  },
  {
   "cell_type": "code",
   "execution_count": 19,
   "metadata": {},
   "outputs": [
    {
     "data": {
      "text/plain": [
       "1681498398"
      ]
     },
     "execution_count": 19,
     "metadata": {},
     "output_type": "execute_result"
    }
   ],
   "source": [
    "gdf_data.time.values[0]"
   ]
  },
  {
   "cell_type": "code",
   "execution_count": 23,
   "metadata": {},
   "outputs": [
    {
     "ename": "KeyError",
     "evalue": "\"['hour'] not found in axis\"",
     "output_type": "error",
     "traceback": [
      "\u001b[0;31m---------------------------------------------------------------------------\u001b[0m",
      "\u001b[0;31mKeyError\u001b[0m                                  Traceback (most recent call last)",
      "Cell \u001b[0;32mIn[23], line 1\u001b[0m\n\u001b[0;32m----> 1\u001b[0m gdf_data \u001b[38;5;241m=\u001b[39m \u001b[43mgdf_data\u001b[49m\u001b[38;5;241;43m.\u001b[39;49m\u001b[43mdrop\u001b[49m\u001b[43m(\u001b[49m\u001b[43mcolumns\u001b[49m\u001b[38;5;241;43m=\u001b[39;49m\u001b[43m[\u001b[49m\u001b[38;5;124;43m'\u001b[39;49m\u001b[38;5;124;43mhour\u001b[39;49m\u001b[38;5;124;43m'\u001b[39;49m\u001b[43m,\u001b[49m\u001b[43m \u001b[49m\u001b[38;5;124;43m'\u001b[39;49m\u001b[38;5;124;43mlidar_min_alt\u001b[39;49m\u001b[38;5;124;43m'\u001b[39;49m\u001b[43m]\u001b[49m\u001b[43m)\u001b[49m\n",
      "File \u001b[0;32m~/miniconda3/envs/obstaclecheck/lib/python3.10/site-packages/pandas/util/_decorators.py:331\u001b[0m, in \u001b[0;36mdeprecate_nonkeyword_arguments.<locals>.decorate.<locals>.wrapper\u001b[0;34m(*args, **kwargs)\u001b[0m\n\u001b[1;32m    325\u001b[0m \u001b[38;5;28;01mif\u001b[39;00m \u001b[38;5;28mlen\u001b[39m(args) \u001b[38;5;241m>\u001b[39m num_allow_args:\n\u001b[1;32m    326\u001b[0m     warnings\u001b[38;5;241m.\u001b[39mwarn(\n\u001b[1;32m    327\u001b[0m         msg\u001b[38;5;241m.\u001b[39mformat(arguments\u001b[38;5;241m=\u001b[39m_format_argument_list(allow_args)),\n\u001b[1;32m    328\u001b[0m         \u001b[38;5;167;01mFutureWarning\u001b[39;00m,\n\u001b[1;32m    329\u001b[0m         stacklevel\u001b[38;5;241m=\u001b[39mfind_stack_level(),\n\u001b[1;32m    330\u001b[0m     )\n\u001b[0;32m--> 331\u001b[0m \u001b[38;5;28;01mreturn\u001b[39;00m \u001b[43mfunc\u001b[49m\u001b[43m(\u001b[49m\u001b[38;5;241;43m*\u001b[39;49m\u001b[43margs\u001b[49m\u001b[43m,\u001b[49m\u001b[43m \u001b[49m\u001b[38;5;241;43m*\u001b[39;49m\u001b[38;5;241;43m*\u001b[39;49m\u001b[43mkwargs\u001b[49m\u001b[43m)\u001b[49m\n",
      "File \u001b[0;32m~/miniconda3/envs/obstaclecheck/lib/python3.10/site-packages/pandas/core/frame.py:5399\u001b[0m, in \u001b[0;36mDataFrame.drop\u001b[0;34m(self, labels, axis, index, columns, level, inplace, errors)\u001b[0m\n\u001b[1;32m   5251\u001b[0m \u001b[38;5;129m@deprecate_nonkeyword_arguments\u001b[39m(version\u001b[38;5;241m=\u001b[39m\u001b[38;5;28;01mNone\u001b[39;00m, allowed_args\u001b[38;5;241m=\u001b[39m[\u001b[38;5;124m\"\u001b[39m\u001b[38;5;124mself\u001b[39m\u001b[38;5;124m\"\u001b[39m, \u001b[38;5;124m\"\u001b[39m\u001b[38;5;124mlabels\u001b[39m\u001b[38;5;124m\"\u001b[39m])\n\u001b[1;32m   5252\u001b[0m \u001b[38;5;28;01mdef\u001b[39;00m \u001b[38;5;21mdrop\u001b[39m(  \u001b[38;5;66;03m# type: ignore[override]\u001b[39;00m\n\u001b[1;32m   5253\u001b[0m     \u001b[38;5;28mself\u001b[39m,\n\u001b[0;32m   (...)\u001b[0m\n\u001b[1;32m   5260\u001b[0m     errors: IgnoreRaise \u001b[38;5;241m=\u001b[39m \u001b[38;5;124m\"\u001b[39m\u001b[38;5;124mraise\u001b[39m\u001b[38;5;124m\"\u001b[39m,\n\u001b[1;32m   5261\u001b[0m ) \u001b[38;5;241m-\u001b[39m\u001b[38;5;241m>\u001b[39m DataFrame \u001b[38;5;241m|\u001b[39m \u001b[38;5;28;01mNone\u001b[39;00m:\n\u001b[1;32m   5262\u001b[0m     \u001b[38;5;124;03m\"\"\"\u001b[39;00m\n\u001b[1;32m   5263\u001b[0m \u001b[38;5;124;03m    Drop specified labels from rows or columns.\u001b[39;00m\n\u001b[1;32m   5264\u001b[0m \n\u001b[0;32m   (...)\u001b[0m\n\u001b[1;32m   5397\u001b[0m \u001b[38;5;124;03m            weight  1.0     0.8\u001b[39;00m\n\u001b[1;32m   5398\u001b[0m \u001b[38;5;124;03m    \"\"\"\u001b[39;00m\n\u001b[0;32m-> 5399\u001b[0m     \u001b[38;5;28;01mreturn\u001b[39;00m \u001b[38;5;28;43msuper\u001b[39;49m\u001b[43m(\u001b[49m\u001b[43m)\u001b[49m\u001b[38;5;241;43m.\u001b[39;49m\u001b[43mdrop\u001b[49m\u001b[43m(\u001b[49m\n\u001b[1;32m   5400\u001b[0m \u001b[43m        \u001b[49m\u001b[43mlabels\u001b[49m\u001b[38;5;241;43m=\u001b[39;49m\u001b[43mlabels\u001b[49m\u001b[43m,\u001b[49m\n\u001b[1;32m   5401\u001b[0m \u001b[43m        \u001b[49m\u001b[43maxis\u001b[49m\u001b[38;5;241;43m=\u001b[39;49m\u001b[43maxis\u001b[49m\u001b[43m,\u001b[49m\n\u001b[1;32m   5402\u001b[0m \u001b[43m        \u001b[49m\u001b[43mindex\u001b[49m\u001b[38;5;241;43m=\u001b[39;49m\u001b[43mindex\u001b[49m\u001b[43m,\u001b[49m\n\u001b[1;32m   5403\u001b[0m \u001b[43m        \u001b[49m\u001b[43mcolumns\u001b[49m\u001b[38;5;241;43m=\u001b[39;49m\u001b[43mcolumns\u001b[49m\u001b[43m,\u001b[49m\n\u001b[1;32m   5404\u001b[0m \u001b[43m        \u001b[49m\u001b[43mlevel\u001b[49m\u001b[38;5;241;43m=\u001b[39;49m\u001b[43mlevel\u001b[49m\u001b[43m,\u001b[49m\n\u001b[1;32m   5405\u001b[0m \u001b[43m        \u001b[49m\u001b[43minplace\u001b[49m\u001b[38;5;241;43m=\u001b[39;49m\u001b[43minplace\u001b[49m\u001b[43m,\u001b[49m\n\u001b[1;32m   5406\u001b[0m \u001b[43m        \u001b[49m\u001b[43merrors\u001b[49m\u001b[38;5;241;43m=\u001b[39;49m\u001b[43merrors\u001b[49m\u001b[43m,\u001b[49m\n\u001b[1;32m   5407\u001b[0m \u001b[43m    \u001b[49m\u001b[43m)\u001b[49m\n",
      "File \u001b[0;32m~/miniconda3/envs/obstaclecheck/lib/python3.10/site-packages/pandas/util/_decorators.py:331\u001b[0m, in \u001b[0;36mdeprecate_nonkeyword_arguments.<locals>.decorate.<locals>.wrapper\u001b[0;34m(*args, **kwargs)\u001b[0m\n\u001b[1;32m    325\u001b[0m \u001b[38;5;28;01mif\u001b[39;00m \u001b[38;5;28mlen\u001b[39m(args) \u001b[38;5;241m>\u001b[39m num_allow_args:\n\u001b[1;32m    326\u001b[0m     warnings\u001b[38;5;241m.\u001b[39mwarn(\n\u001b[1;32m    327\u001b[0m         msg\u001b[38;5;241m.\u001b[39mformat(arguments\u001b[38;5;241m=\u001b[39m_format_argument_list(allow_args)),\n\u001b[1;32m    328\u001b[0m         \u001b[38;5;167;01mFutureWarning\u001b[39;00m,\n\u001b[1;32m    329\u001b[0m         stacklevel\u001b[38;5;241m=\u001b[39mfind_stack_level(),\n\u001b[1;32m    330\u001b[0m     )\n\u001b[0;32m--> 331\u001b[0m \u001b[38;5;28;01mreturn\u001b[39;00m \u001b[43mfunc\u001b[49m\u001b[43m(\u001b[49m\u001b[38;5;241;43m*\u001b[39;49m\u001b[43margs\u001b[49m\u001b[43m,\u001b[49m\u001b[43m \u001b[49m\u001b[38;5;241;43m*\u001b[39;49m\u001b[38;5;241;43m*\u001b[39;49m\u001b[43mkwargs\u001b[49m\u001b[43m)\u001b[49m\n",
      "File \u001b[0;32m~/miniconda3/envs/obstaclecheck/lib/python3.10/site-packages/pandas/core/generic.py:4505\u001b[0m, in \u001b[0;36mNDFrame.drop\u001b[0;34m(self, labels, axis, index, columns, level, inplace, errors)\u001b[0m\n\u001b[1;32m   4503\u001b[0m \u001b[38;5;28;01mfor\u001b[39;00m axis, labels \u001b[38;5;129;01min\u001b[39;00m axes\u001b[38;5;241m.\u001b[39mitems():\n\u001b[1;32m   4504\u001b[0m     \u001b[38;5;28;01mif\u001b[39;00m labels \u001b[38;5;129;01mis\u001b[39;00m \u001b[38;5;129;01mnot\u001b[39;00m \u001b[38;5;28;01mNone\u001b[39;00m:\n\u001b[0;32m-> 4505\u001b[0m         obj \u001b[38;5;241m=\u001b[39m \u001b[43mobj\u001b[49m\u001b[38;5;241;43m.\u001b[39;49m\u001b[43m_drop_axis\u001b[49m\u001b[43m(\u001b[49m\u001b[43mlabels\u001b[49m\u001b[43m,\u001b[49m\u001b[43m \u001b[49m\u001b[43maxis\u001b[49m\u001b[43m,\u001b[49m\u001b[43m \u001b[49m\u001b[43mlevel\u001b[49m\u001b[38;5;241;43m=\u001b[39;49m\u001b[43mlevel\u001b[49m\u001b[43m,\u001b[49m\u001b[43m \u001b[49m\u001b[43merrors\u001b[49m\u001b[38;5;241;43m=\u001b[39;49m\u001b[43merrors\u001b[49m\u001b[43m)\u001b[49m\n\u001b[1;32m   4507\u001b[0m \u001b[38;5;28;01mif\u001b[39;00m inplace:\n\u001b[1;32m   4508\u001b[0m     \u001b[38;5;28mself\u001b[39m\u001b[38;5;241m.\u001b[39m_update_inplace(obj)\n",
      "File \u001b[0;32m~/miniconda3/envs/obstaclecheck/lib/python3.10/site-packages/pandas/core/generic.py:4546\u001b[0m, in \u001b[0;36mNDFrame._drop_axis\u001b[0;34m(self, labels, axis, level, errors, only_slice)\u001b[0m\n\u001b[1;32m   4544\u001b[0m         new_axis \u001b[38;5;241m=\u001b[39m axis\u001b[38;5;241m.\u001b[39mdrop(labels, level\u001b[38;5;241m=\u001b[39mlevel, errors\u001b[38;5;241m=\u001b[39merrors)\n\u001b[1;32m   4545\u001b[0m     \u001b[38;5;28;01melse\u001b[39;00m:\n\u001b[0;32m-> 4546\u001b[0m         new_axis \u001b[38;5;241m=\u001b[39m \u001b[43maxis\u001b[49m\u001b[38;5;241;43m.\u001b[39;49m\u001b[43mdrop\u001b[49m\u001b[43m(\u001b[49m\u001b[43mlabels\u001b[49m\u001b[43m,\u001b[49m\u001b[43m \u001b[49m\u001b[43merrors\u001b[49m\u001b[38;5;241;43m=\u001b[39;49m\u001b[43merrors\u001b[49m\u001b[43m)\u001b[49m\n\u001b[1;32m   4547\u001b[0m     indexer \u001b[38;5;241m=\u001b[39m axis\u001b[38;5;241m.\u001b[39mget_indexer(new_axis)\n\u001b[1;32m   4549\u001b[0m \u001b[38;5;66;03m# Case for non-unique axis\u001b[39;00m\n\u001b[1;32m   4550\u001b[0m \u001b[38;5;28;01melse\u001b[39;00m:\n",
      "File \u001b[0;32m~/miniconda3/envs/obstaclecheck/lib/python3.10/site-packages/pandas/core/indexes/base.py:6934\u001b[0m, in \u001b[0;36mIndex.drop\u001b[0;34m(self, labels, errors)\u001b[0m\n\u001b[1;32m   6932\u001b[0m \u001b[38;5;28;01mif\u001b[39;00m mask\u001b[38;5;241m.\u001b[39many():\n\u001b[1;32m   6933\u001b[0m     \u001b[38;5;28;01mif\u001b[39;00m errors \u001b[38;5;241m!=\u001b[39m \u001b[38;5;124m\"\u001b[39m\u001b[38;5;124mignore\u001b[39m\u001b[38;5;124m\"\u001b[39m:\n\u001b[0;32m-> 6934\u001b[0m         \u001b[38;5;28;01mraise\u001b[39;00m \u001b[38;5;167;01mKeyError\u001b[39;00m(\u001b[38;5;124mf\u001b[39m\u001b[38;5;124m\"\u001b[39m\u001b[38;5;132;01m{\u001b[39;00m\u001b[38;5;28mlist\u001b[39m(labels[mask])\u001b[38;5;132;01m}\u001b[39;00m\u001b[38;5;124m not found in axis\u001b[39m\u001b[38;5;124m\"\u001b[39m)\n\u001b[1;32m   6935\u001b[0m     indexer \u001b[38;5;241m=\u001b[39m indexer[\u001b[38;5;241m~\u001b[39mmask]\n\u001b[1;32m   6936\u001b[0m \u001b[38;5;28;01mreturn\u001b[39;00m \u001b[38;5;28mself\u001b[39m\u001b[38;5;241m.\u001b[39mdelete(indexer)\n",
      "\u001b[0;31mKeyError\u001b[0m: \"['hour'] not found in axis\""
     ]
    }
   ],
   "source": [
    "gdf_data = gdf_data.drop(columns=['hour', 'lidar_min_alt'])"
   ]
  },
  {
   "cell_type": "code",
   "execution_count": 25,
   "metadata": {},
   "outputs": [
    {
     "name": "stdout",
     "output_type": "stream",
     "text": [
      "connected\n",
      "step 1\n",
      "Done\n"
     ]
    }
   ],
   "source": [
    "ed25519_key = paramiko.Ed25519Key(filename='/home/dimitri/.ssh/id_ed25519')\n",
    "\n",
    "# Set up the SSH tunnel with the RSA key\n",
    "with SSHTunnelForwarder(\n",
    "    (MYSQL_creds['SSH_ADDRESS'], 22),\n",
    "    ssh_username=MYSQL_creds['SSH_USERNAME'],\n",
    "    ssh_pkey=ed25519_key,  # Use the loaded RSA key\n",
    "    remote_bind_address=(MYSQL_creds['REMOTE_BIND_ADDRESS'], MYSQL_creds['REMOTE_BIND_PORT']),\n",
    "    allow_agent=False,\n",
    ") as tunnel:\n",
    "    \n",
    "    print('connected')\n",
    "\n",
    "    engstr =  'mysql+pymysql://' + MYSQL_creds['SSH_USERNAME'] + ':' + MYSQL_creds['PYANYWHERE_PASSWORD'] + '@127.0.0.1:' + str(tunnel.local_bind_port)+'/dme3$' + MYSQL_creds['TEST_DATABASE_NAME']\n",
    "\n",
    "    engine = create_engine(engstr)\n",
    "\n",
    "    print('step 1')\n",
    "    \n",
    "    gdf_data.to_sql(con=engine, name = MYSQL_creds['MAIN_TEST_TABLE_NAME'], if_exists='append')\n",
    "\n",
    "    print(\"Done\")"
   ]
  }
 ],
 "metadata": {
  "kernelspec": {
   "display_name": "obstaclecheck",
   "language": "python",
   "name": "python3"
  },
  "language_info": {
   "codemirror_mode": {
    "name": "ipython",
    "version": 3
   },
   "file_extension": ".py",
   "mimetype": "text/x-python",
   "name": "python",
   "nbconvert_exporter": "python",
   "pygments_lexer": "ipython3",
   "version": "3.10.9"
  }
 },
 "nbformat": 4,
 "nbformat_minor": 2
}
